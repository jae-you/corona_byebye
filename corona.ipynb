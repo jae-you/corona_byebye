{
 "cells": [
  {
   "cell_type": "code",
   "execution_count": 1,
   "metadata": {},
   "outputs": [],
   "source": [
    "import csv\n",
    "import pandas as pd\n",
    "import numpy as np"
   ]
  },
  {
   "cell_type": "code",
   "execution_count": 2,
   "metadata": {
    "scrolled": true
   },
   "outputs": [
    {
     "name": "stdout",
     "output_type": "stream",
     "text": [
      "<class 'pandas.core.frame.DataFrame'>\n",
      "Int64Index: 5765 entries, 0 to 5765\n",
      "Data columns (total 41 columns):\n",
      " #   Column                                              Non-Null Count  Dtype \n",
      "---  ------                                              --------------  ----- \n",
      " 0   state                                               5765 non-null   object\n",
      " 1   sex_female                                          5765 non-null   uint8 \n",
      " 2   sex_male                                            5765 non-null   uint8 \n",
      " 3   country_China                                       5765 non-null   uint8 \n",
      " 4   country_Korea                                       5765 non-null   uint8 \n",
      " 5   country_Mongolia                                    5765 non-null   uint8 \n",
      " 6   region_Busan                                        5765 non-null   uint8 \n",
      " 7   region_Chungcheongbuk-do                            5765 non-null   uint8 \n",
      " 8   region_Chungcheongnam-do                            5765 non-null   uint8 \n",
      " 9   region_Daegu                                        5765 non-null   uint8 \n",
      " 10  region_Daejeon                                      5765 non-null   uint8 \n",
      " 11  region_Gangwon-do                                   5765 non-null   uint8 \n",
      " 12  region_Gwangju                                      5765 non-null   uint8 \n",
      " 13  region_Gyeongsangbuk-do                             5765 non-null   uint8 \n",
      " 14  region_Jeju-do                                      5765 non-null   uint8 \n",
      " 15  region_Jeollabuk-do                                 5765 non-null   uint8 \n",
      " 16  region_Jeollanam-do                                 5765 non-null   uint8 \n",
      " 17  region_Ulsan                                        5765 non-null   uint8 \n",
      " 18  region_capital area                                 5765 non-null   uint8 \n",
      " 19  region_filtered at airport                          5765 non-null   uint8 \n",
      " 20  group_Cheongdo Daenam Hospital                      5765 non-null   uint8 \n",
      " 21  group_Eunpyeong St. Mary's Hospital                 5765 non-null   uint8 \n",
      " 22  group_Myungsung church                              5765 non-null   uint8 \n",
      " 23  group_Onchun Church                                 5765 non-null   uint8 \n",
      " 24  group_Pilgrimage                                    5765 non-null   uint8 \n",
      " 25  group_Shincheonji Church                            5765 non-null   uint8 \n",
      " 26  infection_reason_ visit to China                    5765 non-null   uint8 \n",
      " 27  infection_reason_contact with patient               5765 non-null   uint8 \n",
      " 28  infection_reason_contact with patient in Japan      5765 non-null   uint8 \n",
      " 29  infection_reason_contact with patient in Singapore  5765 non-null   uint8 \n",
      " 30  infection_reason_pilgrimage to Israel               5765 non-null   uint8 \n",
      " 31  infection_reason_residence in Wuhan                 5765 non-null   uint8 \n",
      " 32  infection_reason_visit to Cheongdo Daenam Hospital  5765 non-null   uint8 \n",
      " 33  infection_reason_visit to China                     5765 non-null   uint8 \n",
      " 34  infection_reason_visit to Daegu                     5765 non-null   uint8 \n",
      " 35  infection_reason_visit to Italy                     5765 non-null   uint8 \n",
      " 36  infection_reason_visit to Japan                     5765 non-null   uint8 \n",
      " 37  infection_reason_visit to Shincheonji Church        5765 non-null   uint8 \n",
      " 38  infection_reason_visit to Thailand                  5765 non-null   uint8 \n",
      " 39  infection_reason_visit to Vietnam                   5765 non-null   uint8 \n",
      " 40  infection_reason_visit to Wuhan                     5765 non-null   uint8 \n",
      "dtypes: object(1), uint8(40)\n",
      "memory usage: 315.3+ KB\n",
      "None\n",
      "Empty DataFrame\n",
      "Columns: [state, sex_female, sex_male, country_China, country_Korea, country_Mongolia, region_Busan, region_Chungcheongbuk-do, region_Chungcheongnam-do, region_Daegu, region_Daejeon, region_Gangwon-do, region_Gwangju, region_Gyeongsangbuk-do, region_Jeju-do, region_Jeollabuk-do, region_Jeollanam-do, region_Ulsan, region_capital area, region_filtered at airport, group_Cheongdo Daenam Hospital, group_Eunpyeong St. Mary's Hospital, group_Myungsung church, group_Onchun Church, group_Pilgrimage, group_Shincheonji Church, infection_reason_ visit to China, infection_reason_contact with patient, infection_reason_contact with patient in Japan, infection_reason_contact with patient in Singapore, infection_reason_pilgrimage to Israel, infection_reason_residence in Wuhan, infection_reason_visit to Cheongdo Daenam Hospital, infection_reason_visit to China, infection_reason_visit to Daegu, infection_reason_visit to Italy, infection_reason_visit to Japan, infection_reason_visit to Shincheonji Church, infection_reason_visit to Thailand, infection_reason_visit to Vietnam, infection_reason_visit to Wuhan]\n",
      "Index: []\n",
      "\n",
      "[0 rows x 41 columns]\n"
     ]
    }
   ],
   "source": [
    "patient_data = './coronavirusdataset/patient.csv'\n",
    "route_data = './coronavirusdataset/route.csv'\n",
    "time_data = './coronavirusdataset/time.csv'\n",
    "\n",
    "with open(patient_data, errors='ignore') as f:\n",
    "    patient = pd.read_table(f, delimiter=',', sep=',')    \n",
    "index=list(range(len(patient)))\n",
    "df_patient = pd.DataFrame(patient, index=index)\n",
    "\n",
    "with open(route_data, errors='ignore') as f:\n",
    "    route = pd.read_table(f, delimiter=',', sep=',')    \n",
    "index=list(range(len(patient)))\n",
    "df_route = pd.DataFrame(route, index=index)\n",
    "\n",
    "with open(time_data, errors='ignore') as f:\n",
    "    time = pd.read_table(f, delimiter=',', sep=',')    \n",
    "index=list(range(len(time)))\n",
    "df_time = pd.DataFrame(time, index=index)\n",
    "\n",
    "# df_patient = pd.concat([df_patient, pd.get_dummies(df_patient['state'], prefix='state')], axis=1)\n",
    "df_patient = pd.concat([df_patient, pd.get_dummies(df_patient['sex'], prefix='sex')], axis=1)\n",
    "df_patient = pd.concat([df_patient, pd.get_dummies(df_patient['country'], prefix='country')], axis=1)\n",
    "df_patient = pd.concat([df_patient, pd.get_dummies(df_patient['region'], prefix='region')], axis=1)\n",
    "df_patient = pd.concat([df_patient, pd.get_dummies(df_patient['group'], prefix='group')], axis=1)\n",
    "df_patient = pd.concat([df_patient, pd.get_dummies(df_patient['infection_reason'], prefix='infection_reason')], axis=1)\n",
    "df_patient = df_patient.drop(['id','sex','country','region','group','infection_reason'], axis=1)\n",
    "\n",
    "df_patient['released_date'] = pd.to_datetime(df_patient['released_date'])\n",
    "df_patient['deceased_date'] = pd.to_datetime(df_patient['deceased_date'])\n",
    "df_patient['confirmed_date'] = pd.to_datetime(df_patient['confirmed_date'])\n",
    "\n",
    "df_patient = df_patient.drop(['released_date', 'deceased_date','confirmed_date'], axis=1)\n",
    "df_patient = df_patient.drop(['infection_order', 'infected_by', 'contact_number','birth_year'], axis=1)\n",
    "\n",
    "\n",
    "cols = list(df_patient)\n",
    "cols.insert(0, cols.pop(cols.index('state')))\n",
    "df_patient = df_patient.loc[:, cols]\n",
    "df_patient = df_patient.dropna(axis=0)\n",
    "\n",
    "print(df_patient.info(1))\n",
    "print(df_patient.head(0))"
   ]
  },
  {
   "cell_type": "code",
   "execution_count": 4,
   "metadata": {},
   "outputs": [
    {
     "name": "stdout",
     "output_type": "stream",
     "text": [
      "['state', 'sex_female', 'sex_male', 'country_China', 'country_Korea', 'country_Mongolia', 'region_Busan', 'region_Chungcheongbuk-do', 'region_Chungcheongnam-do', 'region_Daegu', 'region_Daejeon', 'region_Gangwon-do', 'region_Gwangju', 'region_Gyeongsangbuk-do', 'region_Jeju-do', 'region_Jeollabuk-do', 'region_Jeollanam-do', 'region_Ulsan', 'region_capital area', 'region_filtered at airport', 'group_Cheongdo Daenam Hospital', \"group_Eunpyeong St. Mary's Hospital\", 'group_Myungsung church', 'group_Onchun Church', 'group_Pilgrimage', 'group_Shincheonji Church', 'infection_reason_ visit to China', 'infection_reason_contact with patient', 'infection_reason_contact with patient in Japan', 'infection_reason_contact with patient in Singapore', 'infection_reason_pilgrimage to Israel', 'infection_reason_residence in Wuhan', 'infection_reason_visit to Cheongdo Daenam Hospital', 'infection_reason_visit to China', 'infection_reason_visit to Daegu', 'infection_reason_visit to Italy', 'infection_reason_visit to Japan', 'infection_reason_visit to Shincheonji Church', 'infection_reason_visit to Thailand', 'infection_reason_visit to Vietnam', 'infection_reason_visit to Wuhan']\n"
     ]
    }
   ],
   "source": [
    "col_names = []\n",
    "for i in df_patient.head(0):\n",
    "    col_names.append(i)\n",
    "    \n",
    "print(col_names)"
   ]
  },
  {
   "cell_type": "code",
   "execution_count": 5,
   "metadata": {},
   "outputs": [
    {
     "name": "stdout",
     "output_type": "stream",
     "text": [
      "0       released\n",
      "1       released\n",
      "2       released\n",
      "3       released\n",
      "4       released\n",
      "          ...   \n",
      "5761    isolated\n",
      "5762    isolated\n",
      "5763    isolated\n",
      "5764    isolated\n",
      "5765    isolated\n",
      "Name: state, Length: 5765, dtype: object\n"
     ]
    }
   ],
   "source": [
    "print(df_patient['state'])"
   ]
  },
  {
   "cell_type": "code",
   "execution_count": 6,
   "metadata": {},
   "outputs": [
    {
     "name": "stderr",
     "output_type": "stream",
     "text": [
      "findfont: Font family ['AppleGothic'] not found. Falling back to DejaVu Sans.\n",
      "findfont: Font family ['AppleGothic'] not found. Falling back to DejaVu Sans.\n"
     ]
    },
    {
     "name": "stdout",
     "output_type": "stream",
     "text": [
      "TRAINING SET ACCURACY: 0.993\n",
      "TEST SET ACCURACY: 0.993\n",
      "FEATURE IMPORTANCES:\n",
      "[0.0059835  0.04777981 0.         0.         0.         0.\n",
      " 0.         0.         0.11511468 0.         0.         0.03149673\n",
      " 0.00362228 0.         0.         0.         0.         0.0359918\n",
      " 0.         0.22570293 0.         0.         0.         0.\n",
      " 0.02799749 0.         0.10470435 0.         0.         0.\n",
      " 0.         0.         0.         0.00070639 0.         0.\n",
      " 0.         0.         0.         0.40090003]\n"
     ]
    },
    {
     "data": {
      "image/png": "[encoded data removed]",
      "text/plain": [
       "<Figure size 648x360 with 1 Axes>"
      ]
     },
     "metadata": {
      "needs_background": "light"
     },
     "output_type": "display_data"
    }
   ],
   "source": [
    "\n",
    "from sklearn.tree import DecisionTreeClassifier\n",
    "from sklearn.model_selection import train_test_split\n",
    "from sklearn.model_selection import cross_val_score\n",
    "from sklearn import tree\n",
    "import graphviz\n",
    "import matplotlib.pyplot as plt\n",
    "\n",
    "X = df_patient.values[:,1:]\n",
    "Y = df_patient.values[:,0]     \n",
    "\n",
    "train_X, test_X, train_Y, test_Y = train_test_split(X,Y, train_size=0.8, test_size=0.2, random_state=123)\n",
    "\n",
    "tree1 = DecisionTreeClassifier(criterion=\"gini\", splitter='best', max_leaf_nodes=None, min_samples_leaf=5, max_depth=None)\n",
    "\n",
    "clf = tree1.fit(X,Y)\n",
    "clf = tree1.fit(X=train_X, y=train_Y)\n",
    "clf.feature_importances_ \n",
    "clf.score(X=test_X, y=test_Y) \n",
    "\n",
    "feature_names = col_names[1:]\n",
    "class_names = ['deceased', 'confirmed', 'released']\n",
    "\n",
    "dot_data = tree.export_graphviz(clf, out_file=None, proportion=False, filled=True, \n",
    "                                feature_names=feature_names, class_names=class_names, \n",
    "                                rounded=True, special_characters=True, impurity=False)\n",
    "graph = graphviz.Source(dot_data)\n",
    "graph.format='png'\n",
    "graph.render('./tree_corona.png')\n",
    "\n",
    "print(\"TRAINING SET ACCURACY: {:.3f}\".format(clf.score(train_X, train_Y)))\n",
    "print(\"TEST SET ACCURACY: {:.3f}\".format(clf.score(test_X, test_Y)))\n",
    "print(\"FEATURE IMPORTANCES:\\n{}\".format(clf.feature_importances_))\n",
    "\n",
    "plt.rc('font',family='AppleGothic')\n",
    "\n",
    "def plot_feature_importances(model):\n",
    "    plt.figure(figsize=(9,5))\n",
    "    n_features = X.data.shape[1]\n",
    "    plt.barh(range(n_features), model.feature_importances_, align='center')\n",
    "    plt.yticks(np.arange(n_features), feature_names, fontsize=5)\n",
    "    plt.xlabel(\"feature importances\")\n",
    "    plt.ylabel(\"features\")\n",
    "    plt.ylim(-1, n_features)\n",
    "\n",
    "plot_feature_importances(tree1)\n"
   ]
  },
  {
   "cell_type": "code",
   "execution_count": null,
   "metadata": {},
   "outputs": [],
   "source": []
  }
 ],
 "metadata": {
  "kernelspec": {
   "display_name": "Python 3",
   "language": "python",
   "name": "python3"
  },
  "language_info": {
   "codemirror_mode": {
    "name": "ipython",
    "version": 3
   },
   "file_extension": ".py",
   "mimetype": "text/x-python",
   "name": "python",
   "nbconvert_exporter": "python",
   "pygments_lexer": "ipython3",
   "version": "3.7.6"
  }
 },
 "nbformat": 4,
 "nbformat_minor": 4
}
