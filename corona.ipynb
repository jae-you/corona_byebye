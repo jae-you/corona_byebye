{
 "cells": [
  {
   "cell_type": "code",
   "execution_count": 1,
   "metadata": {},
   "outputs": [],
   "source": [
    "import csv\n",
    "import pandas as pd\n",
    "import numpy as np\n",
    "import math"
   ]
  },
  {
   "cell_type": "code",
   "execution_count": 2,
   "metadata": {
    "scrolled": true
   },
   "outputs": [
    {
     "name": "stdout",
     "output_type": "stream",
     "text": [
      "<class 'pandas.core.frame.DataFrame'>\n",
      "Int64Index: 7869 entries, 0 to 7868\n",
      "Data columns (total 39 columns):\n",
      " #   Column                                              Non-Null Count  Dtype\n",
      "---  ------                                              --------------  -----\n",
      " 0   state_label                                         7869 non-null   int64\n",
      " 1   disease_1.0                                         7869 non-null   uint8\n",
      " 2   sex_female                                          7869 non-null   uint8\n",
      " 3   sex_male                                            7869 non-null   uint8\n",
      " 4   country_China                                       7869 non-null   uint8\n",
      " 5   country_Korea                                       7869 non-null   uint8\n",
      " 6   country_Mongolia                                    7869 non-null   uint8\n",
      " 7   region_Busan                                        7869 non-null   uint8\n",
      " 8   region_Chungcheongbuk-do                            7869 non-null   uint8\n",
      " 9   region_Chungcheongnam-do                            7869 non-null   uint8\n",
      " 10  region_Daegu                                        7869 non-null   uint8\n",
      " 11  region_Daejeon                                      7869 non-null   uint8\n",
      " 12  region_Gangwon-do                                   7869 non-null   uint8\n",
      " 13  region_Gwangju                                      7869 non-null   uint8\n",
      " 14  region_Gyeongsangbuk-do                             7869 non-null   uint8\n",
      " 15  region_Jeju-do                                      7869 non-null   uint8\n",
      " 16  region_Jeollabuk-do                                 7869 non-null   uint8\n",
      " 17  region_Jeollanam-do                                 7869 non-null   uint8\n",
      " 18  region_Ulsan                                        7869 non-null   uint8\n",
      " 19  region_capital area                                 7869 non-null   uint8\n",
      " 20  region_filtered at airport                          7869 non-null   uint8\n",
      " 21  group_Cheongdo Daenam Hospital                      7869 non-null   uint8\n",
      " 22  group_Eunpyeong St. Mary's Hospital                 7869 non-null   uint8\n",
      " 23  group_Pilgrimage                                    7869 non-null   uint8\n",
      " 24  group_Shincheonji Church                            7869 non-null   uint8\n",
      " 25  infection_reason_contact with patient               7869 non-null   uint8\n",
      " 26  infection_reason_contact with patient in Daegu      7869 non-null   uint8\n",
      " 27  infection_reason_contact with patient in Japan      7869 non-null   uint8\n",
      " 28  infection_reason_contact with patient in Singapore  7869 non-null   uint8\n",
      " 29  infection_reason_pilgrimage to Israel               7869 non-null   uint8\n",
      " 30  infection_reason_residence in Wuhan                 7869 non-null   uint8\n",
      " 31  infection_reason_visit to China                     7869 non-null   uint8\n",
      " 32  infection_reason_visit to Daegu                     7869 non-null   uint8\n",
      " 33  infection_reason_visit to Italy                     7869 non-null   uint8\n",
      " 34  infection_reason_visit to Japan                     7869 non-null   uint8\n",
      " 35  infection_reason_visit to Thailand                  7869 non-null   uint8\n",
      " 36  infection_reason_visit to Vietnam                   7869 non-null   uint8\n",
      " 37  infection_reason_visit to Wuhan                     7869 non-null   uint8\n",
      " 38  infection_reason_visit to ooo                       7869 non-null   uint8\n",
      "dtypes: int64(1), uint8(38)\n",
      "memory usage: 415.0 KB\n",
      "None\n",
      "Empty DataFrame\n",
      "Columns: [state_label, disease_1.0, sex_female, sex_male, country_China, country_Korea, country_Mongolia, region_Busan, region_Chungcheongbuk-do, region_Chungcheongnam-do, region_Daegu, region_Daejeon, region_Gangwon-do, region_Gwangju, region_Gyeongsangbuk-do, region_Jeju-do, region_Jeollabuk-do, region_Jeollanam-do, region_Ulsan, region_capital area, region_filtered at airport, group_Cheongdo Daenam Hospital, group_Eunpyeong St. Mary's Hospital, group_Pilgrimage, group_Shincheonji Church, infection_reason_contact with patient, infection_reason_contact with patient in Daegu, infection_reason_contact with patient in Japan, infection_reason_contact with patient in Singapore, infection_reason_pilgrimage to Israel, infection_reason_residence in Wuhan, infection_reason_visit to China, infection_reason_visit to Daegu, infection_reason_visit to Italy, infection_reason_visit to Japan, infection_reason_visit to Thailand, infection_reason_visit to Vietnam, infection_reason_visit to Wuhan, infection_reason_visit to ooo]\n",
      "Index: []\n",
      "\n",
      "[0 rows x 39 columns]\n"
     ]
    }
   ],
   "source": [
    "patient_data = './coronavirusdataset/patient.csv'\n",
    "route_data = './coronavirusdataset/route.csv'\n",
    "time_data = './coronavirusdataset/time.csv'\n",
    "\n",
    "with open(patient_data, errors='ignore') as f:\n",
    "    patient = pd.read_table(f, delimiter=',', sep=',')    \n",
    "index=list(range(len(patient)))\n",
    "df_patient = pd.DataFrame(patient, index=index)\n",
    "\n",
    "with open(route_data, errors='ignore') as f:\n",
    "    route = pd.read_table(f, delimiter=',', sep=',')    \n",
    "index=list(range(len(patient)))\n",
    "df_route = pd.DataFrame(route, index=index)\n",
    "\n",
    "with open(time_data, errors='ignore') as f:\n",
    "    time = pd.read_table(f, delimiter=',', sep=',')    \n",
    "index=list(range(len(time)))\n",
    "df_time = pd.DataFrame(time, index=index)\n",
    "\n",
    "state_label=[]\n",
    "for k in df_patient['state']:\n",
    "    if k == 'isolated':\n",
    "        state_label.append(0)\n",
    "    elif k == 'released':\n",
    "        state_label.append(1)\n",
    "    elif k == 'deceased':\n",
    "        state_label.append(2)\n",
    "\n",
    "df_patient['state_label'] = state_label\n",
    "\n",
    "df_patient = pd.concat([df_patient, pd.get_dummies(df_patient['disease'], prefix='disease')], axis=1)\n",
    "df_patient = pd.concat([df_patient, pd.get_dummies(df_patient['sex'], prefix='sex')], axis=1)\n",
    "df_patient = pd.concat([df_patient, pd.get_dummies(df_patient['country'], prefix='country')], axis=1)\n",
    "df_patient = pd.concat([df_patient, pd.get_dummies(df_patient['region'], prefix='region')], axis=1)\n",
    "df_patient = pd.concat([df_patient, pd.get_dummies(df_patient['group'], prefix='group')], axis=1)\n",
    "df_patient = pd.concat([df_patient, pd.get_dummies(df_patient['infection_reason'], prefix='infection_reason')], axis=1)\n",
    "df_patient = df_patient.drop(['state','patient_id','disease','sex','country','region','group','infection_reason'], axis=1)\n",
    "\n",
    "df_patient['released_date'] = pd.to_datetime(df_patient['released_date'])\n",
    "df_patient['deceased_date'] = pd.to_datetime(df_patient['deceased_date'])\n",
    "df_patient['confirmed_date'] = pd.to_datetime(df_patient['confirmed_date'])\n",
    "\n",
    "df_patient = df_patient.drop(['released_date', 'deceased_date','confirmed_date'], axis=1)\n",
    "df_patient = df_patient.drop(['infection_order', 'infected_by', 'contact_number','birth_year'], axis=1)\n",
    "\n",
    "cols = list(df_patient)\n",
    "cols.insert(0, cols.pop(cols.index('state_label')))\n",
    "# print(cols)\n",
    "df_patient = df_patient.loc[:, cols]\n",
    "df_patient = df_patient.dropna(axis=0)\n",
    "\n",
    "# print(df_patient['state'])\n",
    "print(df_patient.info(1))\n",
    "print(df_patient.head(0))"
   ]
  },
  {
   "cell_type": "code",
   "execution_count": 3,
   "metadata": {},
   "outputs": [
    {
     "name": "stdout",
     "output_type": "stream",
     "text": [
      "['state_label', 'disease_1.0', 'sex_female', 'sex_male', 'country_China', 'country_Korea', 'country_Mongolia', 'region_Busan', 'region_Chungcheongbuk-do', 'region_Chungcheongnam-do', 'region_Daegu', 'region_Daejeon', 'region_Gangwon-do', 'region_Gwangju', 'region_Gyeongsangbuk-do', 'region_Jeju-do', 'region_Jeollabuk-do', 'region_Jeollanam-do', 'region_Ulsan', 'region_capital area', 'region_filtered at airport', 'group_Cheongdo Daenam Hospital', \"group_Eunpyeong St. Mary's Hospital\", 'group_Pilgrimage', 'group_Shincheonji Church', 'infection_reason_contact with patient', 'infection_reason_contact with patient in Daegu', 'infection_reason_contact with patient in Japan', 'infection_reason_contact with patient in Singapore', 'infection_reason_pilgrimage to Israel', 'infection_reason_residence in Wuhan', 'infection_reason_visit to China', 'infection_reason_visit to Daegu', 'infection_reason_visit to Italy', 'infection_reason_visit to Japan', 'infection_reason_visit to Thailand', 'infection_reason_visit to Vietnam', 'infection_reason_visit to Wuhan', 'infection_reason_visit to ooo']\n"
     ]
    }
   ],
   "source": [
    "col_names = []\n",
    "for i in df_patient.head(0):\n",
    "    col_names.append(i)\n",
    "    \n",
    "print(col_names)"
   ]
  },
  {
   "cell_type": "code",
   "execution_count": 4,
   "metadata": {},
   "outputs": [
    {
     "name": "stdout",
     "output_type": "stream",
     "text": [
      "Weight for released: 56.00\n",
      "Weight for isolated: 36.00\n",
      "Weight for deceased: 7777.00\n"
     ]
    }
   ],
   "source": [
    "deceased, released, isolated = np.bincount(df_patient['state_label'])\n",
    "total = released + isolated + deceased \n",
    "    \n",
    "weight_for_released = (1 / released)*(total)/3.0 \n",
    "weight_for_isolated = (1 / isolated)*(total)/3.0\n",
    "weight_for_deceased = (1 / deceased)*(total)/3.0\n",
    "\n",
    "class_weight = {2: isolated, 1: released, 0: deceased}\n",
    "\n",
    "print('Weight for released: {:.2f}'.format(released))\n",
    "print('Weight for isolated: {:.2f}'.format(isolated))\n",
    "print('Weight for deceased: {:.2f}'.format(deceased))\n",
    "\n"
   ]
  },
  {
   "cell_type": "code",
   "execution_count": 6,
   "metadata": {},
   "outputs": [
    {
     "name": "stderr",
     "output_type": "stream",
     "text": [
      "findfont: Font family ['AppleGothic'] not found. Falling back to DejaVu Sans.\n",
      "findfont: Font family ['AppleGothic'] not found. Falling back to DejaVu Sans.\n"
     ]
    },
    {
     "name": "stdout",
     "output_type": "stream",
     "text": [
      "훈련 세트 정확도: 0.995\n",
      "테스트 세트 정확도: 0.992\n",
      "특성 중요도:\n",
      "[4.18699182e-01 3.55548039e-05 2.50891282e-04 0.00000000e+00\n",
      " 7.21074842e-02 0.00000000e+00 1.10577924e-08 4.13171174e-05\n",
      " 0.00000000e+00 2.46107744e-04 3.97752398e-04 0.00000000e+00\n",
      " 0.00000000e+00 7.52728918e-05 0.00000000e+00 2.63735010e-05\n",
      " 2.49115231e-05 0.00000000e+00 1.82625284e-04 7.23670725e-02\n",
      " 6.90119440e-08 1.22122907e-04 1.70890358e-07 2.64473523e-04\n",
      " 9.08957775e-04 0.00000000e+00 3.61838290e-02 3.61837454e-02\n",
      " 5.17804065e-06 0.00000000e+00 1.58826661e-07 4.10735564e-05\n",
      " 1.66970111e-07 4.15045132e-06 7.23667379e-02 3.61836617e-02\n",
      " 2.53280948e-01 0.00000000e+00]\n"
     ]
    },
    {
     "data": {
      "image/png": "[encoded data removed]",
      "text/plain": [
       "<Figure size 648x360 with 1 Axes>"
      ]
     },
     "metadata": {
      "needs_background": "light"
     },
     "output_type": "display_data"
    }
   ],
   "source": [
    "\n",
    "from sklearn.tree import DecisionTreeClassifier\n",
    "from sklearn.model_selection import train_test_split\n",
    "from sklearn.model_selection import cross_val_score\n",
    "from sklearn import tree\n",
    "import graphviz\n",
    "import matplotlib.pyplot as plt\n",
    "\n",
    "X = df_patient.values[:,1:]\n",
    "Y = df_patient.values[:,0]     \n",
    "\n",
    "train_X, test_X, train_Y, test_Y = train_test_split(X,Y, train_size=0.8, test_size=0.1, random_state=123)\n",
    "\n",
    "tree1 = DecisionTreeClassifier(criterion=\"gini\", splitter='best', class_weight=class_weight,\n",
    "                               max_leaf_nodes=None, min_samples_leaf=1, max_depth=None)\n",
    "\n",
    "clf = tree1.fit(X,Y)\n",
    "clf = tree1.fit(X=train_X, y=train_Y)\n",
    "clf.feature_importances_ \n",
    "clf.score(X=test_X, y=test_Y) \n",
    "\n",
    "feature_names = col_names[1:]\n",
    "class_names = ['isolated', 'released', 'deceased']\n",
    "\n",
    "dot_data = tree.export_graphviz(clf, out_file=None, proportion=False, filled=True, \n",
    "                                feature_names=feature_names, class_names=class_names, \n",
    "                                rounded=True, special_characters=True, impurity=False)\n",
    "graph = graphviz.Source(dot_data)\n",
    "graph.format='png'\n",
    "graph.render('./tree_corona.png')\n",
    "\n",
    "print(\"훈련 세트 정확도: {:.3f}\".format(clf.score(train_X, train_Y)))\n",
    "print(\"테스트 세트 정확도: {:.3f}\".format(clf.score(test_X, test_Y)))\n",
    "print(\"특성 중요도:\\n{}\".format(clf.feature_importances_))\n",
    "\n",
    "plt.rc('font', family='AppleGothic')\n",
    "\n",
    "def plot_feature_importances(model):\n",
    "    plt.figure(figsize=(9,5))\n",
    "    n_features = X.data.shape[1]\n",
    "    plt.barh(range(n_features), model.feature_importances_, align='center')\n",
    "    plt.yticks(np.arange(n_features), feature_names, fontsize=5)\n",
    "    plt.xlabel(\"feature importances\")\n",
    "    plt.ylabel(\"features\")\n",
    "    plt.ylim(-1, n_features)\n",
    "\n",
    "plot_feature_importances(tree1)\n"
   ]
  },
  {
   "cell_type": "code",
   "execution_count": null,
   "metadata": {},
   "outputs": [],
   "source": []
  }
 ],
 "metadata": {
  "kernelspec": {
   "display_name": "Python 3",
   "language": "python",
   "name": "python3"
  },
  "language_info": {
   "codemirror_mode": {
    "name": "ipython",
    "version": 3
   },
   "file_extension": ".py",
   "mimetype": "text/x-python",
   "name": "python",
   "nbconvert_exporter": "python",
   "pygments_lexer": "ipython3",
   "version": "3.7.6"
  }
 },
 "nbformat": 4,
 "nbformat_minor": 4
}
